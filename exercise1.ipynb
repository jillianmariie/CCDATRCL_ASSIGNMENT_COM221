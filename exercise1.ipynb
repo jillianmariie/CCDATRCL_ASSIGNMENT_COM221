## Class Initialization

class Node:
    def __init__(self, data):
        self.data = data
        self.next = None
        self.prev = None

class LinkedList:

    def __init__(self):
        self.head = None

    def traverse(self, node):
        while node:
            print(node.data, end=" -> ")
            node = node.next

class DoublyLinkedList:

    def __init__(self):
        self.head = None

    def traverse(self, node):
        while node:
            print(node.data, end=" -> ")
            node = node.next

class CircularLinkedList:

    def __init__(self):
        self.head = None

    def traverse(self, node):

        head = node

        while node:
            print(node.data, end=" -> ")
            node = node.next

            # Break to prevent infinite loop
            if node == head:
                break

#### 1. Create a Singly Linked list

- Each node should contain your name and your seatmates in your row
- Create at least 5 nodes
- Traverse all nodes

# put your code here
linked_list = LinkedList()

linked_list.head = Node ("Francyne")
node_b = Node ("Kristel")
node_c = Node ("Jillian")
node_d = Node ("Jongseong")
node_e = Node ("Mureigne")

linked_list.head.next = node_b
node_b.next = node_c
node_c.next = node_d
node_d.next = node_e

linked_list.traverse(linked_list.head)

#### 2. Create a Doubly Linked list

- Each node should contain your name and your seatmates in your row
- Create at least 5 nodes
- Traverse all nodes

# put your code here
doubly_linked_list = DoublyLinkedList()

doubly_linked_list.head = Node ("Francyne")
node_b = Node ("Kristel")
node_c = Node ("Jillian")
node_d = Node ("Taehyung")
node_e = Node ("Mureigne")

doubly_linked_list.head.prev = None
doubly_linked_list.head.next = node_b

node_b.prev = doubly_linked_list.head
node_b.next = node_c

node_c.prev = node_b
node_c.next = node_d

node_d.prev = node_c
node_d.next = node_e

node_e.prev = node_d
node_e.next = None

doubly_linked_list.traverse (doubly_linked_list.head)

#### 3. Create a Circular Linked list

- Each node should contain your name and your seatmates in your row
- Create at least 5 nodes
- Traverse all nodes

# put your code here
circular_linked_list = CircularLinkedList()

circular_linked_list.head = Node ("Francyne")
node_b = Node ("Kristel")
node_c = Node ("Jillian")
node_d = Node ("Justin Jay")
node_e = Node ("Mureigne")

circular_linked_list.head = node_b
node_b.next = node_c
node_c.next = node_d
node_d.next = node_e
node_e.next = circular_linked_list.head

circular_linked_list.traverse(circular_linked_list.head)
