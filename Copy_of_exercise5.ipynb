{
  "cells": [
    {
      "cell_type": "markdown",
      "metadata": {
        "id": "view-in-github",
        "colab_type": "text"
      },
      "source": [
        "<a href=\"https://colab.research.google.com/github/jillianmariie/CCDATRCL_ASSIGNMENT_COM221/blob/main/Copy_of_exercise5.ipynb\" target=\"_parent\"><img src=\"https://colab.research.google.com/assets/colab-badge.svg\" alt=\"Open In Colab\"/></a>"
      ]
    },
    {
      "cell_type": "markdown",
      "metadata": {
        "id": "_D9alGTHFOhR"
      },
      "source": [
        "# Exercise 5"
      ]
    },
    {
      "cell_type": "markdown",
      "metadata": {
        "id": "ygpfxiDQFOhc"
      },
      "source": [
        "#### 1. Create a dictionary of your 10 favorite songs."
      ]
    },
    {
      "cell_type": "markdown",
      "metadata": {
        "id": "PzViPPSTFOhd"
      },
      "source": [
        "Example:\n",
        "\n",
        "|KEY|VALUE|\n",
        "|---|---|\n",
        "|001|My Love|\n",
        "|002|Like a rose|"
      ]
    },
    {
      "cell_type": "code",
      "execution_count": null,
      "metadata": {
        "id": "iuU-TnDsFOhe",
        "outputId": "caf54977-7d12-481a-f1b4-fff138203747",
        "colab": {
          "base_uri": "https://localhost:8080/"
        }
      },
      "outputs": [
        {
          "output_type": "stream",
          "name": "stdout",
          "text": [
            "{'001': 'Say Yes To Heaven', '002': 'Hits Different', '003': 'Daylight', '004': 'Colors', '005': 'like i need u', '006': 'No Air', '007': 'Never Felt So Alone', '008': 'About You', '009': 'Fine Line', '010': 'SDL'}\n"
          ]
        }
      ],
      "source": [
        "# put your answer here\n",
        "\n",
        "mydictionary = {\n",
        "    \"001\": \"Say Yes To Heaven\",\n",
        "    \"002\": \"Hits Different\",\n",
        "    \"003\": \"Daylight\",\n",
        "    \"004\": \"Colors\",\n",
        "    \"005\": \"like i need u\",\n",
        "    \"006\": \"No Air\",\n",
        "    \"007\": \"Never Felt So Alone\",\n",
        "    \"008\": \"About You\",\n",
        "    \"009\": \"Fine Line\",\n",
        "    \"010\": \"SDL\"\n",
        "}\n",
        "\n",
        "print(mydictionary)"
      ]
    },
    {
      "cell_type": "markdown",
      "metadata": {
        "id": "2fzd-SHfFOhf"
      },
      "source": [
        "#### 2. Loop through the dictionary by its **key** and **value**"
      ]
    },
    {
      "cell_type": "code",
      "execution_count": 6,
      "metadata": {
        "id": "nxkXn_RHFOhg",
        "colab": {
          "base_uri": "https://localhost:8080/"
        },
        "outputId": "53e23ba1-939d-45dc-c154-660891eae379"
      },
      "outputs": [
        {
          "output_type": "stream",
          "name": "stdout",
          "text": [
            "id001 Say Yes To Heaven\n",
            "id002 Hits Different\n",
            "id003 Daylight\n",
            "id004 Colors\n",
            "id005 like i need u\n",
            "id006 No Air\n",
            "id007 Never Felt So Alone\n",
            "id008 About You\n",
            "id009 Fine Line\n",
            "id010 SDL\n"
          ]
        }
      ],
      "source": [
        "# put your answer here\n",
        "\n",
        "mydictionary = dict(id001 = \"Say Yes To Heaven\", id002 = \"Hits Different\", id003 = \"Daylight\", id004 = \"Colors\", id005 = \"like i need u\", id006 = \"No Air\", id007 = \"Never Felt So Alone\", id008 = \"About You\", id009 = \"Fine Line\", id010 = \"SDL\")\n",
        "\n",
        "for x, y in mydictionary.items():\n",
        "  print(x, y)"
      ]
    },
    {
      "cell_type": "markdown",
      "metadata": {
        "id": "tmnakZPeFOhg"
      },
      "source": [
        "#### 3. Add one additional song"
      ]
    },
    {
      "cell_type": "code",
      "execution_count": 7,
      "metadata": {
        "id": "jYSotDRyFOhh",
        "colab": {
          "base_uri": "https://localhost:8080/"
        },
        "outputId": "010daf55-3450-4c00-b372-70f56943b585"
      },
      "outputs": [
        {
          "output_type": "execute_result",
          "data": {
            "text/plain": [
              "{'id001': 'Say Yes To Heaven',\n",
              " 'id002': 'Hits Different',\n",
              " 'id003': 'Daylight',\n",
              " 'id004': 'Colors',\n",
              " 'id005': 'like i need u',\n",
              " 'id006': 'No Air',\n",
              " 'id007': 'Never Felt So Alone',\n",
              " 'id008': 'About You',\n",
              " 'id009': 'Fine Line',\n",
              " 'id010': 'SDL',\n",
              " 'id011': 'Feather'}"
            ]
          },
          "metadata": {},
          "execution_count": 7
        }
      ],
      "source": [
        "# put your answer here\n",
        "\n",
        "mydictionary[\"id011\"] = \"Feather\"\n",
        "\n",
        "mydictionary"
      ]
    },
    {
      "cell_type": "markdown",
      "metadata": {
        "id": "ZTySAVnsFOhh"
      },
      "source": [
        "#### 4. Remove one song"
      ]
    },
    {
      "cell_type": "code",
      "execution_count": 8,
      "metadata": {
        "id": "gGru_6vWFOhh",
        "colab": {
          "base_uri": "https://localhost:8080/"
        },
        "outputId": "ab79e622-99f0-452d-f80b-7d4de6bcb2f4"
      },
      "outputs": [
        {
          "output_type": "execute_result",
          "data": {
            "text/plain": [
              "{'id001': 'Say Yes To Heaven',\n",
              " 'id002': 'Hits Different',\n",
              " 'id003': 'Daylight',\n",
              " 'id004': 'Colors',\n",
              " 'id005': 'like i need u',\n",
              " 'id007': 'Never Felt So Alone',\n",
              " 'id008': 'About You',\n",
              " 'id009': 'Fine Line',\n",
              " 'id010': 'SDL',\n",
              " 'id011': 'Feather'}"
            ]
          },
          "metadata": {},
          "execution_count": 8
        }
      ],
      "source": [
        "# put your answer here\n",
        "\n",
        "mydictionary.pop(\"id006\")\n",
        "\n",
        "mydictionary"
      ]
    },
    {
      "cell_type": "markdown",
      "metadata": {
        "id": "j0a2O6foFOhi"
      },
      "source": [
        "#### 5. Create a nested dictionary of your 10 favorite songs with 5 genres. Display all of the items of the nested dictionary\n",
        "\n",
        "- Each nested dictionary's key should be the genre of the song\n",
        "- Put each song in their respective genre"
      ]
    },
    {
      "cell_type": "markdown",
      "metadata": {
        "id": "tWEHqGzlFOhi"
      },
      "source": [
        "Example:\n",
        "\n",
        "\n",
        "|KEY|VALUE|\n",
        "|---|---|\n",
        "|Pop|{001, Baby}|\n",
        "|Rock|{001, Enter Sandman}|"
      ]
    },
    {
      "cell_type": "code",
      "execution_count": null,
      "metadata": {
        "id": "k1RgA2cAFOhj"
      },
      "outputs": [],
      "source": [
        "# put your answer here\n",
        "\n",
        "mydictionary = {\n",
        "    \"K-pop\" : {\n",
        "        \"001\": \"Criminal Love\",\n",
        "        \"002\": \"BLOSSOM\"\n",
        "    },\n",
        "    \"RnB\" : {\n",
        "        \"001\": \"homebdy\",\n",
        "        \"002\": \"Die For You\"\n",
        "    },\n",
        "    \"OPM\" : {\n",
        "        \"001\": \"YK\",\n",
        "        \"002\": \"Pasilyo\"\n",
        "    },\n",
        "    \"Reggae\" : {\n",
        "        \"001\": \"One Day\",\n",
        "        \"002\": \"Twist and Shout\"\n",
        "    },\n",
        "    \"Punk\" : {\n",
        "        \"001\": \"Misery Business\",\n",
        "        \"002\": \"Still into You\"\n",
        "    }\n",
        "}\n",
        "\n",
        "mydictionary"
      ]
    },
    {
      "cell_type": "markdown",
      "metadata": {
        "id": "6B7ISeWKFOhj"
      },
      "source": [
        "#### 6. Print the first song of the first genre"
      ]
    },
    {
      "cell_type": "code",
      "execution_count": 10,
      "metadata": {
        "id": "TXxhfuPoFOhj",
        "colab": {
          "base_uri": "https://localhost:8080/"
        },
        "outputId": "19ae000b-04f3-438d-f63b-658273a9dfdb"
      },
      "outputs": [
        {
          "output_type": "stream",
          "name": "stdout",
          "text": [
            "Criminal Love\n"
          ]
        }
      ],
      "source": [
        "# put your answer here\n",
        "\n",
        "mydictionary = {\n",
        "    \"K-pop\" : {\n",
        "        \"001\": \"Criminal Love\",\n",
        "        \"002\": \"BLOSSOM\"\n",
        "    },\n",
        "    \"RnB\" : {\n",
        "        \"001\": \"homebdy\",\n",
        "        \"002\": \"Die For You\"\n",
        "    },\n",
        "    \"OPM\" : {\n",
        "        \"001\": \"YK\",\n",
        "        \"002\": \"Pasilyo\"\n",
        "    },\n",
        "    \"Reggae\" : {\n",
        "        \"001\": \"One Day\",\n",
        "        \"002\": \"Twist and Shout\"\n",
        "    },\n",
        "    \"Punk\" : {\n",
        "        \"001\": \"Misery Business\",\n",
        "        \"002\": \"Still into You\"\n",
        "    }\n",
        "}\n",
        "\n",
        "print(mydictionary[\"K-pop\"][\"001\"])"
      ]
    },
    {
      "cell_type": "markdown",
      "metadata": {
        "id": "f3TGRnbLFOhk"
      },
      "source": [
        "#### 7. Print the first song of the last genre"
      ]
    },
    {
      "cell_type": "code",
      "execution_count": 12,
      "metadata": {
        "id": "mwyboJT_FOhk",
        "colab": {
          "base_uri": "https://localhost:8080/"
        },
        "outputId": "359a3532-184b-4bef-a8c5-4e578abc269c"
      },
      "outputs": [
        {
          "output_type": "stream",
          "name": "stdout",
          "text": [
            "Still into You\n"
          ]
        }
      ],
      "source": [
        "# put your answer here\n",
        "\n",
        "mydictionary = {\n",
        "    \"K-pop\" : {\n",
        "        \"001\": \"Criminal Love\",\n",
        "        \"002\": \"BLOSSOM\"\n",
        "    },\n",
        "    \"RnB\" : {\n",
        "        \"001\": \"homebdy\",\n",
        "        \"002\": \"Die For You\"\n",
        "    },\n",
        "    \"OPM\" : {\n",
        "        \"001\": \"YK\",\n",
        "        \"002\": \"Pasilyo\"\n",
        "    },\n",
        "    \"Reggae\" : {\n",
        "        \"001\": \"One Day\",\n",
        "        \"002\": \"Twist and Shout\"\n",
        "    },\n",
        "    \"Punk\" : {\n",
        "        \"001\": \"Misery Business\",\n",
        "        \"002\": \"Still into You\"\n",
        "    }\n",
        "}\n",
        "\n",
        "print(mydictionary[\"Punk\"][\"002\"])"
      ]
    }
  ],
  "metadata": {
    "kernelspec": {
      "display_name": "Python 3",
      "language": "python",
      "name": "python3"
    },
    "language_info": {
      "codemirror_mode": {
        "name": "ipython",
        "version": 3
      },
      "file_extension": ".py",
      "mimetype": "text/x-python",
      "name": "python",
      "nbconvert_exporter": "python",
      "pygments_lexer": "ipython3",
      "version": "3.11.4"
    },
    "orig_nbformat": 4,
    "colab": {
      "provenance": [],
      "include_colab_link": true
    }
  },
  "nbformat": 4,
  "nbformat_minor": 0
}