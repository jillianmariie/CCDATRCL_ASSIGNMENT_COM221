{
  "cells": [
    {
      "cell_type": "markdown",
      "metadata": {
        "id": "view-in-github",
        "colab_type": "text"
      },
      "source": [
        "<a href=\"https://colab.research.google.com/github/jillianmariie/CCDATRCL_ASSIGNMENT_COM221/blob/main/Copy_of_exercise3.ipynb\" target=\"_parent\"><img src=\"https://colab.research.google.com/assets/colab-badge.svg\" alt=\"Open In Colab\"/></a>"
      ]
    },
    {
      "cell_type": "markdown",
      "metadata": {
        "id": "lyv5-lhsYBkz"
      },
      "source": [
        "# Exercise 3"
      ]
    },
    {
      "cell_type": "markdown",
      "metadata": {
        "id": "RFmf88AcYBk2"
      },
      "source": [
        "#### Pre-defined classes"
      ]
    },
    {
      "cell_type": "markdown",
      "metadata": {
        "id": "bsPly1y5YBk3"
      },
      "source": [
        "Pre-defined Queue class"
      ]
    },
    {
      "cell_type": "code",
      "execution_count": 1,
      "metadata": {
        "id": "omT44y8UYBk3"
      },
      "outputs": [],
      "source": [
        "class Queue:\n",
        "    def __init__(self):\n",
        "        self.queue = []\n",
        "\n",
        "    # Add an element\n",
        "    def enqueue(self, item):\n",
        "        self.queue.append(item)\n",
        "\n",
        "    # Remove an element\n",
        "    def dequeue(self):\n",
        "        if len(self.queue) < 1:\n",
        "            return None\n",
        "        return self.queue.pop(0)\n",
        "\n",
        "    # Display  the queue\n",
        "    def display(self):\n",
        "        print(self.queue)\n",
        "\n",
        "    def size(self):\n",
        "        return len(self.queue)\n",
        "\n",
        "    def peek(self):\n",
        "        return self.queue[0]\n"
      ]
    },
    {
      "cell_type": "markdown",
      "metadata": {
        "id": "P1FoeQ1UYBk4"
      },
      "source": [
        "Pre-defined Deque class"
      ]
    },
    {
      "cell_type": "code",
      "execution_count": 2,
      "metadata": {
        "id": "4ajlzKRZYBk4"
      },
      "outputs": [],
      "source": [
        "class Deque:\n",
        "    def __init__(self):\n",
        "        self.items = []\n",
        "\n",
        "    def isEmpty(self):\n",
        "        return self.items == []\n",
        "\n",
        "    def addRear(self, item):\n",
        "        self.items.append(item)\n",
        "\n",
        "    def addFront(self, item):\n",
        "        self.items.insert(0, item)\n",
        "\n",
        "    def removeFront(self):\n",
        "        return self.items.pop(0)\n",
        "\n",
        "    def removeRear(self):\n",
        "        return self.items.pop()\n",
        "\n",
        "    def size(self):\n",
        "        return len(self.items)"
      ]
    },
    {
      "cell_type": "markdown",
      "metadata": {
        "id": "Iq5WmYLnYBk5"
      },
      "source": [
        "Pre-defined Circular Queue class"
      ]
    },
    {
      "cell_type": "code",
      "execution_count": 3,
      "metadata": {
        "id": "f2UQOAszYBk5"
      },
      "outputs": [],
      "source": [
        "class CircularQueue():\n",
        "\n",
        "    def __init__(self, k):\n",
        "        self.k = k\n",
        "        self.queue = [None] * k\n",
        "        self.head = self.tail = -1\n",
        "\n",
        "    # Insert an element into the circular queue\n",
        "    def enqueue(self, data):\n",
        "\n",
        "        if ((self.tail + 1) % self.k == self.head):\n",
        "            print(\"The circular queue is full\\n\")\n",
        "\n",
        "        elif (self.head == -1):\n",
        "            self.head = 0\n",
        "            self.tail = 0\n",
        "            self.queue[self.tail] = data\n",
        "        else:\n",
        "            self.tail = (self.tail + 1) % self.k\n",
        "            self.queue[self.tail] = data\n",
        "\n",
        "    # Delete an element from the circular queue\n",
        "    def dequeue(self):\n",
        "        if (self.head == -1):\n",
        "            print(\"The circular queue is empty\\n\")\n",
        "\n",
        "        elif (self.head == self.tail):\n",
        "            temp = self.queue[self.head]\n",
        "            self.head = -1\n",
        "            self.tail = -1\n",
        "            return temp\n",
        "        else:\n",
        "            temp = self.queue[self.head]\n",
        "            self.head = (self.head + 1) % self.k\n",
        "            return temp\n",
        "\n",
        "    def printCQueue(self):\n",
        "        if(self.head == -1):\n",
        "            print(\"No element in the circular queue\")\n",
        "\n",
        "        elif (self.tail >= self.head):\n",
        "            for i in range(self.head, self.tail + 1):\n",
        "                print(self.queue[i], end=\" \")\n",
        "            print()\n",
        "        else:\n",
        "            for i in range(self.head, self.k):\n",
        "                print(self.queue[i], end=\" \")\n",
        "            for i in range(0, self.tail + 1):\n",
        "                print(self.queue[i], end=\" \")\n",
        "            print()\n"
      ]
    },
    {
      "cell_type": "markdown",
      "metadata": {
        "id": "tdrDBheJYBk5"
      },
      "source": [
        "Pre-defined Priority Queue Class"
      ]
    },
    {
      "cell_type": "code",
      "execution_count": 4,
      "metadata": {
        "id": "o6XfJcuBYBk5"
      },
      "outputs": [],
      "source": [
        "class PriorityQueueNode:\n",
        "    def __init__(self, value, pr):\n",
        "\n",
        "        self.data = value\n",
        "        self.priority = pr\n",
        "        self.next = None"
      ]
    },
    {
      "cell_type": "code",
      "execution_count": 5,
      "metadata": {
        "id": "D6EONwXKYBk6"
      },
      "outputs": [],
      "source": [
        "class PriorityQueue:\n",
        "\n",
        "\tdef __init__(self):\n",
        "\n",
        "\t\tself.front = None\n",
        "\n",
        "\t# Method to check Priority Queue is Empty\n",
        "\t# or not if Empty then it will return True\n",
        "\t# Otherwise False\n",
        "\tdef isEmpty(self):\n",
        "\n",
        "\t\treturn True if self.front == None else False\n",
        "\n",
        "\t# Method to add items in Priority Queue\n",
        "\t# According to their priority value\n",
        "\tdef push(self, value, priority):\n",
        "\n",
        "\t\t# Condition check for checking Priority\n",
        "\t\t# Queue is empty or not\n",
        "\t\tif self.isEmpty() == True:\n",
        "\n",
        "\t\t\t# Creating a new node and assigning\n",
        "\t\t\t# it to class variable\n",
        "\t\t\tself.front = PriorityQueueNode(value, priority)\n",
        "\n",
        "\t\t\t# Returning 1 for successful execution\n",
        "\t\t\treturn 1\n",
        "\n",
        "\t\telse:\n",
        "\n",
        "\t\t\t# Special condition check to see that\n",
        "\t\t\t# first node priority value\n",
        "\t\t\tif self.front.priority > priority:\n",
        "\t\t\t\t# Creating a new node\n",
        "\t\t\t\tnewNode = PriorityQueueNode(value, priority)\n",
        "\t\t\t\t# Updating the new node next value\n",
        "\t\t\t\tnewNode.next = self.front\n",
        "\n",
        "\t\t\t\t# Assigning it to self.front\n",
        "\t\t\t\tself.front = newNode\n",
        "\n",
        "\t\t\t\t# Returning 1 for successful execution\n",
        "\t\t\t\treturn 1\n",
        "\n",
        "\t\t\telse:\n",
        "\n",
        "\t\t\t\t# Traversing through Queue until it\n",
        "\t\t\t\t# finds the next smaller priority node\n",
        "\t\t\t\ttemp = self.front\n",
        "\n",
        "\t\t\t\twhile temp.next:\n",
        "\t\t\t\t\t# If same priority node found then current\n",
        "\t\t\t\t\t# node will come after previous node\n",
        "\t\t\t\t\tif priority <= temp.next.priority:\n",
        "\t\t\t\t\t\tbreak\n",
        "\n",
        "\t\t\t\t\ttemp = temp.next\n",
        "\n",
        "\t\t\t\tnewNode = PriorityQueueNode(value, priority)\n",
        "\t\t\t\tnewNode.next = temp.next\n",
        "\t\t\t\ttemp.next = newNode\n",
        "\n",
        "\t\t\t\t# Returning 1 for successful execution\n",
        "\t\t\t\treturn 1\n",
        "\n",
        "\t# Method to remove high priority item\n",
        "\t# from the Priority Queue\n",
        "\tdef pop(self):\n",
        "\n",
        "\t\t# Condition check for checking\n",
        "\t\t# Priority Queue is empty or not\n",
        "\t\tif self.isEmpty() == True:\n",
        "\t\t\treturn\n",
        "\t\telse:\n",
        "\t\t\t# Removing high priority node from\n",
        "\t\t\t# Priority Queue, and updating front\n",
        "\t\t\t# with next node\n",
        "\t\t\tself.front = self.front.next\n",
        "\t\t\treturn 1\n",
        "\n",
        "\t# Method to return high priority node\n",
        "\t# value Not removing it\n",
        "\tdef peek(self):\n",
        "\t\t# Condition check for checking Priority\n",
        "\t\t# Queue is empty or not\n",
        "\t\tif self.isEmpty() == True:\n",
        "\t\t\treturn\n",
        "\t\telse:\n",
        "\t\t\treturn self.front.data\n",
        "\n",
        "\t# Method to Traverse through Priority\n",
        "\t# Queue\n",
        "\tdef traverse(self):\n",
        "\t\t# Condition check for checking Priority\n",
        "\t\t# Queue is empty or not\n",
        "\t\tif self.isEmpty() == True:\n",
        "\t\t\treturn \"Queue is Empty!\"\n",
        "\t\telse:\n",
        "\t\t\ttemp = self.front\n",
        "\t\t\twhile temp:\n",
        "\t\t\t\tprint(temp.data, end=\" \")\n",
        "\t\t\t\ttemp = temp.next\n"
      ]
    },
    {
      "cell_type": "markdown",
      "metadata": {
        "id": "PwQOrkEgYBk6"
      },
      "source": [
        "#### 1. Create a Queue\n",
        "\n",
        "- Each element should contain your name and your other classmates\n",
        "- There should be at least 5 elements in the queue\n",
        "- Put yourself at the end of the queue\n",
        "- Print all elements in the queue"
      ]
    },
    {
      "cell_type": "code",
      "execution_count": 6,
      "metadata": {
        "id": "Tx_LhPr8YBk7",
        "colab": {
          "base_uri": "https://localhost:8080/"
        },
        "outputId": "bb309294-c9f9-4f01-d6b5-09b3332bfd07"
      },
      "outputs": [
        {
          "output_type": "stream",
          "name": "stdout",
          "text": [
            "['Cyn', 'Kristel', 'Mureigne', 'Jill', 'Jay', 'Jungkook']\n"
          ]
        }
      ],
      "source": [
        "# put your answer here\n",
        "\n",
        "myqueue = Queue()\n",
        "\n",
        "myqueue.enqueue(\"Cyn\")\n",
        "myqueue.enqueue(\"Kristel\")\n",
        "myqueue.enqueue(\"Mureigne\")\n",
        "myqueue.enqueue(\"Jill\")\n",
        "myqueue.enqueue(\"Jay\")\n",
        "myqueue.enqueue(\"Jungkook\")\n",
        "\n",
        "myqueue.display()"
      ]
    },
    {
      "cell_type": "markdown",
      "metadata": {
        "id": "OMVVZwuQYBk7"
      },
      "source": [
        "#### 2. Create a Deque\n",
        "\n",
        "Given the queue below,\n",
        "\n",
        "**Queue:**\n",
        "\n",
        "| Cat | Dog | Rabbit | Bird | Hamster\n",
        "| --- | --- | --- | --- | --- |\n",
        "\n",
        "**dequeue** each element and insert them into a **Deque** in the following order below:\n",
        "\n",
        "**Deque:**\n",
        "\n",
        "| Hamster | Bird | Rabbit | Dog | Cat\n",
        "| --- | --- | --- | --- | --- |\n",
        "\n",
        "**Expected output:**\n",
        "\n",
        "['Hamster','Bird', 'Rabbit', 'Dog', 'Cat']"
      ]
    },
    {
      "cell_type": "code",
      "execution_count": 7,
      "metadata": {
        "id": "MImRYfCuYBk7",
        "colab": {
          "base_uri": "https://localhost:8080/"
        },
        "outputId": "b4126d78-a279-400c-9465-87f1a6e711c4"
      },
      "outputs": [
        {
          "output_type": "stream",
          "name": "stdout",
          "text": [
            "['Hamster', 'Bird', 'Rabbit', 'Dog', 'Cat']\n"
          ]
        }
      ],
      "source": [
        "# put your answer here\n",
        "myqueue = Queue()\n",
        "deque = Deque()\n",
        "\n",
        "myqueue.enqueue(\"Cat\")\n",
        "myqueue.enqueue(\"Dog\")\n",
        "myqueue.enqueue(\"Rabbit\")\n",
        "myqueue.enqueue(\"Bird\")\n",
        "myqueue.enqueue(\"Hamster\")\n",
        "#myqueue.display()\n",
        "\n",
        "deque.addFront(myqueue.dequeue())\n",
        "deque.addFront(myqueue.dequeue())\n",
        "deque.addFront(myqueue.dequeue())\n",
        "deque.addFront(myqueue.dequeue())\n",
        "deque.addFront(myqueue.dequeue())\n",
        "\n",
        "print(deque.items)"
      ]
    },
    {
      "cell_type": "markdown",
      "metadata": {
        "id": "ue3zTjZNYBk7"
      },
      "source": [
        "#### 3. Create a Circular Queue\n",
        "\n",
        "Given the queue below,\n",
        "\n",
        "**Queue:**\n",
        "\n",
        "| I | II | III | IV | V | VI | VII | VIII | IX | X | XI | XII\n",
        "| --- | --- | --- | --- | --- | --- | --- | --- | --- | --- | --- | --- |\n",
        "\n",
        "**dequeue** each element and insert them into a **Circular Deque** in the following order below:\n",
        "\n",
        "**Circular Queue:**\n",
        "\n",
        "<img src=\"clock.jpg\"/>\n",
        "\n",
        "**Expected output:**\n",
        "\n",
        "I II III IV V VI VII VIII IX X XI XII"
      ]
    },
    {
      "cell_type": "code",
      "execution_count": 8,
      "metadata": {
        "id": "_vWefFv8YBk7",
        "colab": {
          "base_uri": "https://localhost:8080/"
        },
        "outputId": "a4b3e8c1-2ab8-4961-875e-9e8f251ba5e0"
      },
      "outputs": [
        {
          "output_type": "stream",
          "name": "stdout",
          "text": [
            "I II III IV V VI VII VIII IX X XI XII \n"
          ]
        }
      ],
      "source": [
        "# put your answer here\n",
        "myqueue = Queue()\n",
        "circularQueue = CircularQueue(12)\n",
        "\n",
        "myqueue.enqueue(\"I\")\n",
        "myqueue.enqueue(\"II\")\n",
        "myqueue.enqueue(\"III\")\n",
        "myqueue.enqueue(\"IV\")\n",
        "myqueue.enqueue(\"V\")\n",
        "myqueue.enqueue(\"VI\")\n",
        "myqueue.enqueue(\"VII\")\n",
        "myqueue.enqueue(\"VIII\")\n",
        "myqueue.enqueue(\"IX\")\n",
        "myqueue.enqueue(\"X\")\n",
        "myqueue.enqueue(\"XI\")\n",
        "myqueue.enqueue(\"XII\")\n",
        "\n",
        "for i in range(myqueue.size()):\n",
        "  circularQueue.enqueue(myqueue.dequeue())\n",
        "\n",
        "circularQueue.printCQueue()"
      ]
    },
    {
      "cell_type": "markdown",
      "metadata": {
        "id": "QZ4GwZ4tYBk8"
      },
      "source": [
        "#### 4. Create a Priority Queue\n",
        "\n",
        "Given the queue below,\n",
        "\n",
        "**Queue:**\n",
        "\n",
        "| Cat | Dog | Rabbit | Bird | Hamster\n",
        "| --- | --- | --- | --- | --- |\n",
        "\n",
        "\n",
        "**dequeue** each element and insert them into a **Priority Queue** with the following priority values\n",
        "\n",
        "**Priority Queue:**\n",
        "\n",
        "| Element | Priority |\n",
        "| --- | --- |\n",
        "| Hamster |  0 |\n",
        "| Bird |  1 |\n",
        "| Rabbit |  2 |\n",
        "| Dog |  3 |\n",
        "| Cat |  4 |\n",
        "\n",
        "**Expected output:**\n",
        "\n",
        "Hamster Bird Rabbit Dog Cat"
      ]
    },
    {
      "cell_type": "code",
      "execution_count": 9,
      "metadata": {
        "id": "YRKuazgnYBk8",
        "colab": {
          "base_uri": "https://localhost:8080/"
        },
        "outputId": "8b1146c0-2aab-4e0d-f7d2-ed5b268da015"
      },
      "outputs": [
        {
          "output_type": "stream",
          "name": "stdout",
          "text": [
            "Dequeued: \n",
            "['Dog', 'Rabbit', 'Bird', 'Hamster']\n",
            "['Rabbit', 'Bird', 'Hamster']\n",
            "['Bird', 'Hamster']\n",
            "['Hamster']\n",
            "[]\n",
            "\n",
            "Priority Queue: \n",
            "Hamster Bird Rabbit Dog Cat "
          ]
        }
      ],
      "source": [
        "# put your answer here\n",
        "myqueue = Queue()\n",
        "prioqueue = PriorityQueue()\n",
        "\n",
        "myqueue.enqueue(\"Cat\")\n",
        "myqueue.enqueue(\"Dog\")\n",
        "myqueue.enqueue(\"Rabbit\")\n",
        "myqueue.enqueue(\"Bird\")\n",
        "myqueue.enqueue(\"Hamster\")\n",
        "\n",
        "print(\"Dequeued: \")\n",
        "while range(myqueue.size()):\n",
        "  myqueue.dequeue()\n",
        "  myqueue.display()\n",
        "\n",
        "prioqueue = PriorityQueue()\n",
        "\n",
        "prioqueue.push(\"Hamster\", 0)\n",
        "prioqueue.push(\"Bird\", 1)\n",
        "prioqueue.push(\"Rabbit\", 2)\n",
        "prioqueue.push(\"Dog\", 3)\n",
        "prioqueue.push(\"Cat\", 4)\n",
        "\n",
        "print(\"\\nPriority Queue: \")\n",
        "prioqueue.traverse()"
      ]
    },
    {
      "cell_type": "markdown",
      "metadata": {
        "id": "FUaAEqPmYBk8"
      },
      "source": [
        "#### 5. Create a Sorted Circular Queue\n",
        "\n",
        "Given the queue below,\n",
        "\n",
        "**Queue:**\n",
        "\n",
        "| 1 | 5 | 3 | 2 | 7 | 8 | 10 | 11 | 6 | 4 | 12 | 9\n",
        "| --- | --- | --- | --- | --- | --- | --- | --- | --- | --- | --- | --- |\n",
        "\n",
        "\n",
        "**dequeue** each element and insert them into a **Circular Queue** in the following order below:\n",
        "\n",
        "**Circular Queue:**\n",
        "\n",
        "<img src=\"clock1.png\"/>\n",
        "\n",
        "**Expected output:**\n",
        "\n",
        "1 2 3 4 5 6 7 8 9 10 11 12"
      ]
    },
    {
      "cell_type": "code",
      "execution_count": 10,
      "metadata": {
        "id": "vxkPsvmzYBk8",
        "colab": {
          "base_uri": "https://localhost:8080/"
        },
        "outputId": "bfd4158b-92da-4a73-ad87-61ba87e6d2ce"
      },
      "outputs": [
        {
          "output_type": "stream",
          "name": "stdout",
          "text": [
            "Dequeued: \n",
            "[5, 3, 2, 7, 8, 10, 11, 6, 4, 12, 9]\n",
            "[3, 2, 7, 8, 10, 11, 6, 4, 12, 9]\n",
            "[2, 7, 8, 10, 11, 6, 4, 12, 9]\n",
            "[7, 8, 10, 11, 6, 4, 12, 9]\n",
            "[8, 10, 11, 6, 4, 12, 9]\n",
            "[10, 11, 6, 4, 12, 9]\n",
            "[11, 6, 4, 12, 9]\n",
            "[6, 4, 12, 9]\n",
            "[4, 12, 9]\n",
            "[12, 9]\n",
            "[9]\n",
            "[]\n",
            "\n",
            "Sorted Circular Queue: \n",
            "1 2 3 4 5 6 7 8 9 10 11 12 \n"
          ]
        }
      ],
      "source": [
        "# put your answer here\n",
        "myqueue = Queue()\n",
        "circularQueue = CircularQueue(12)\n",
        "\n",
        "myqueue.enqueue(1)\n",
        "myqueue.enqueue(5)\n",
        "myqueue.enqueue(3)\n",
        "myqueue.enqueue(2)\n",
        "myqueue.enqueue(7)\n",
        "myqueue.enqueue(8)\n",
        "myqueue.enqueue(10)\n",
        "myqueue.enqueue(11)\n",
        "myqueue.enqueue(6)\n",
        "myqueue.enqueue(4)\n",
        "myqueue.enqueue(12)\n",
        "myqueue.enqueue(9)\n",
        "\n",
        "print(\"Dequeued: \")\n",
        "for i in range(myqueue.size()):\n",
        "  myqueue.dequeue()\n",
        "  myqueue.display()\n",
        "\n",
        "print(\"\\nSorted Circular Queue: \")\n",
        "for i in range (1, 13):\n",
        "  circularQueue.enqueue(i)\n",
        "\n",
        "circularQueue.printCQueue()\n"
      ]
    }
  ],
  "metadata": {
    "kernelspec": {
      "display_name": "Python 3",
      "language": "python",
      "name": "python3"
    },
    "language_info": {
      "codemirror_mode": {
        "name": "ipython",
        "version": 3
      },
      "file_extension": ".py",
      "mimetype": "text/x-python",
      "name": "python",
      "nbconvert_exporter": "python",
      "pygments_lexer": "ipython3",
      "version": "3.9.13"
    },
    "orig_nbformat": 4,
    "colab": {
      "provenance": [],
      "include_colab_link": true
    }
  },
  "nbformat": 4,
  "nbformat_minor": 0
}